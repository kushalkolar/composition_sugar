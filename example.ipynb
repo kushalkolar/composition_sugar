{
 "cells": [
  {
   "cell_type": "code",
   "execution_count": 1,
   "metadata": {},
   "outputs": [],
   "source": [
    "from core import Container, Node, node\n",
    "import pandas as pd\n",
    "from pprint import pprint"
   ]
  },
  {
   "cell_type": "markdown",
   "metadata": {},
   "source": [
    "### Data Container\n",
    "Create a class to hold a dataframe an a helper function to load hdf5 files"
   ]
  },
  {
   "cell_type": "code",
   "execution_count": 2,
   "metadata": {},
   "outputs": [],
   "source": [
    "class DataFrameContainer(Container):\n",
    "    def __init__(self, df: pd.DataFrame):\n",
    "        Container.__init__(self)\n",
    "        self.df = df\n",
    "    \n",
    "    @classmethod\n",
    "    def from_hdf5(cls, path: str, key: str):\n",
    "        df = pd.read_hdf(path, key=key, mode='r')\n",
    "        return cls(df)"
   ]
  },
  {
   "cell_type": "markdown",
   "metadata": {},
   "source": [
    "## Simple example of a processing node.\n",
    "The first argument **must** be the container\\\n",
    "the process method **must** always return a container instance."
   ]
  },
  {
   "cell_type": "code",
   "execution_count": 3,
   "metadata": {},
   "outputs": [],
   "source": [
    "class Splice(Node):        \n",
    "    def process(self, container, data_column, start, stop):\n",
    "        container.df['spliced'] = container.df[data_column].apply(lambda a: a[start:stop])\n",
    "        return container"
   ]
  },
  {
   "cell_type": "markdown",
   "metadata": {},
   "source": [
    "Create a container from a pandas dataframe stored as an HDF5 file"
   ]
  },
  {
   "cell_type": "code",
   "execution_count": 4,
   "metadata": {},
   "outputs": [],
   "source": [
    "cont = DataFrameContainer.from_hdf5('./data.h5', key='data')"
   ]
  },
  {
   "cell_type": "markdown",
   "metadata": {},
   "source": [
    "Write the pipeline and that's it!"
   ]
  },
  {
   "cell_type": "code",
   "execution_count": 5,
   "metadata": {},
   "outputs": [
    {
     "data": {
      "text/plain": [
       "<__main__.DataFrameContainer at 0x7fa91ff36cc0>"
      ]
     },
     "execution_count": 5,
     "metadata": {},
     "output_type": "execute_result"
    }
   ],
   "source": [
    "cont >> Splice('_RAW_CURVE', 10, 1000) >> Splice(start=50, stop=500, data_column='spliced')"
   ]
  },
  {
   "cell_type": "markdown",
   "metadata": {},
   "source": [
    "It works"
   ]
  },
  {
   "cell_type": "code",
   "execution_count": 6,
   "metadata": {},
   "outputs": [
    {
     "data": {
      "text/plain": [
       "(450,)"
      ]
     },
     "execution_count": 6,
     "metadata": {},
     "output_type": "execute_result"
    }
   ],
   "source": [
    "cont.df.spliced.iloc[0].shape"
   ]
  },
  {
   "cell_type": "markdown",
   "metadata": {},
   "source": [
    "## Automatic parameter logging!"
   ]
  },
  {
   "cell_type": "code",
   "execution_count": 7,
   "metadata": {},
   "outputs": [
    {
     "name": "stdout",
     "output_type": "stream",
     "text": [
      "[{'Splice': {'data_column': '_RAW_CURVE', 'start': 10, 'stop': 1000}},\n",
      " {'Splice': {'data_column': 'spliced', 'start': 50, 'stop': 500}}]\n"
     ]
    }
   ],
   "source": [
    "pprint(cont.log)"
   ]
  },
  {
   "cell_type": "markdown",
   "metadata": {},
   "source": [
    "## Even simpler example!\n",
    "You can also just use the @node decorator if it's just a simple function\\\n",
    "The aforementioned class example can be useful if the processing is more complex"
   ]
  },
  {
   "cell_type": "code",
   "execution_count": 8,
   "metadata": {},
   "outputs": [],
   "source": [
    "@node\n",
    "def splice(container, data_column, start, stop):\n",
    "    container.df['spliced'] = container.df[data_column].apply(lambda a: a[start:stop])\n",
    "    return container"
   ]
  },
  {
   "cell_type": "code",
   "execution_count": 9,
   "metadata": {},
   "outputs": [],
   "source": [
    "cont = DataFrameContainer.from_hdf5('./data.h5', key='data')"
   ]
  },
  {
   "cell_type": "code",
   "execution_count": 10,
   "metadata": {},
   "outputs": [
    {
     "data": {
      "text/plain": [
       "<__main__.DataFrameContainer at 0x7fa919636278>"
      ]
     },
     "execution_count": 10,
     "metadata": {},
     "output_type": "execute_result"
    }
   ],
   "source": [
    "cont >> splice(start=10, stop=500, data_column='_RAW_CURVE') >> splice('spliced', 50, 80)"
   ]
  },
  {
   "cell_type": "markdown",
   "metadata": {},
   "source": [
    "Just to show that this also works"
   ]
  },
  {
   "cell_type": "code",
   "execution_count": 11,
   "metadata": {},
   "outputs": [
    {
     "data": {
      "text/plain": [
       "30"
      ]
     },
     "execution_count": 11,
     "metadata": {},
     "output_type": "execute_result"
    }
   ],
   "source": [
    "cont.df.iloc[0].spliced.size"
   ]
  },
  {
   "cell_type": "markdown",
   "metadata": {},
   "source": [
    "# More complex example"
   ]
  },
  {
   "cell_type": "code",
   "execution_count": 12,
   "metadata": {},
   "outputs": [],
   "source": [
    "import numpy as np\n",
    "from scipy import fftpack\n",
    "from sklearn.discriminant_analysis import LinearDiscriminantAnalysis"
   ]
  },
  {
   "cell_type": "markdown",
   "metadata": {},
   "source": [
    "## More complex nodes are basically simple wrapper functions"
   ]
  },
  {
   "cell_type": "code",
   "execution_count": 13,
   "metadata": {},
   "outputs": [],
   "source": [
    "@node\n",
    "def normalize(container, data_column):\n",
    "    func = lambda a: ((a - np.min(a)) / (np.max(a - np.min(a))))\n",
    "    container.df['normalize'] = container.df[data_column].apply(func)\n",
    "    return container\n",
    "\n",
    "\n",
    "@node\n",
    "def log(container, data_column):\n",
    "    container.df['log'] = container.df[data_column].apply(lambda x: np.log10(x))\n",
    "    return container\n",
    "    \n",
    "\n",
    "@node\n",
    "def absval(container, data_column):\n",
    "    container.df['absval'] = container.df[data_column].apply(lambda x: np.abs(x))\n",
    "    return container\n",
    "\n",
    "@node\n",
    "def rfft(container, data_column):\n",
    "    data = np.vstack(container.df[data_column].values)\n",
    "\n",
    "    container.df['fft'] = fftpack.rfft(data).tolist()\n",
    "    container.df['fft'] = container.df['fft'].apply(np.array)\n",
    "\n",
    "    return container\n",
    "\n",
    "\n",
    "@node\n",
    "def LDA(container, data_column, labels_column, n_components):\n",
    "    X = np.vstack(container.df[data_column].values)\n",
    "    y = container.df[labels_column]\n",
    "    \n",
    "    lda = LinearDiscriminantAnalysis(n_components=n_components)\n",
    "    \n",
    "    X_ = lda.fit_transform(X, y)\n",
    "    \n",
    "    container.df['lda_transform'] = X_.tolist()\n",
    "    container.df['lda_transform'] = container.df['lda_transform'].apply(np.array)\n",
    "    \n",
    "    return container\n"
   ]
  },
  {
   "cell_type": "code",
   "execution_count": 14,
   "metadata": {},
   "outputs": [],
   "source": [
    "cont = DataFrameContainer.from_hdf5('./data.h5', key='data')"
   ]
  },
  {
   "cell_type": "markdown",
   "metadata": {},
   "source": [
    "### More complex pipeline"
   ]
  },
  {
   "cell_type": "code",
   "execution_count": 15,
   "metadata": {},
   "outputs": [
    {
     "name": "stderr",
     "output_type": "stream",
     "text": [
      "/home/kushal/python-virtual-environments/mesmerize/lib/python3.6/site-packages/sklearn/discriminant_analysis.py:388: UserWarning: Variables are collinear.\n",
      "  warnings.warn(\"Variables are collinear.\")\n"
     ]
    },
    {
     "data": {
      "text/plain": [
       "<__main__.DataFrameContainer at 0x7fa919a60128>"
      ]
     },
     "execution_count": 15,
     "metadata": {},
     "output_type": "execute_result"
    }
   ],
   "source": [
    "cont \\\n",
    ">> splice('_RAW_CURVE', 0, 2990)\\\n",
    ">> normalize('spliced')\\\n",
    ">> rfft('normalize')\\\n",
    ">> absval('fft')\\\n",
    ">> log('absval')\\\n",
    ">> splice('log', 0, 1000)\\\n",
    ">> LDA('spliced', labels_column='FCLUSTER_LABELS', n_components=2)"
   ]
  },
  {
   "cell_type": "markdown",
   "metadata": {},
   "source": [
    "## View the params for each node"
   ]
  },
  {
   "cell_type": "code",
   "execution_count": 16,
   "metadata": {},
   "outputs": [
    {
     "name": "stdout",
     "output_type": "stream",
     "text": [
      "[{'splice': {'data_column': '_RAW_CURVE',\n",
      "             'start': 0,\n",
      "             'stop': 2990}},\n",
      " {'normalize': {'data_column': 'spliced'}},\n",
      " {'rfft': {'data_column': 'normalize'}},\n",
      " {'absval': {'data_column': 'fft'}},\n",
      " {'log': {'data_column': 'absval'}},\n",
      " {'splice': {'data_column': 'log',\n",
      "             'start': 0,\n",
      "             'stop': 1000}},\n",
      " {'LDA': {'data_column': 'spliced',\n",
      "          'labels_column': 'FCLUSTER_LABELS',\n",
      "          'n_components': 2}}]\n"
     ]
    }
   ],
   "source": [
    "pprint(cont.log, width=20)"
   ]
  },
  {
   "cell_type": "code",
   "execution_count": 17,
   "metadata": {},
   "outputs": [],
   "source": [
    "from matplotlib import pyplot as plt"
   ]
  },
  {
   "cell_type": "markdown",
   "metadata": {},
   "source": [
    "### View the LDA projection"
   ]
  },
  {
   "cell_type": "code",
   "execution_count": 18,
   "metadata": {},
   "outputs": [
    {
     "data": {
      "text/plain": [
       "<matplotlib.collections.PathCollection at 0x7fa8f2f55dd8>"
      ]
     },
     "execution_count": 18,
     "metadata": {},
     "output_type": "execute_result"
    },
    {
     "data": {
      "image/png": "[encoded data removed]",
      "text/plain": [
       "<Figure size 432x288 with 1 Axes>"
      ]
     },
     "metadata": {
      "needs_background": "light"
     },
     "output_type": "display_data"
    }
   ],
   "source": [
    "data = np.vstack(cont.df.lda_transform.values)\n",
    "plt.scatter(data[:, 0], data[:, 1], c=cont.df.FCLUSTER_LABELS, cmap='tab10', s=10)"
   ]
  },
  {
   "cell_type": "markdown",
   "metadata": {},
   "source": [
    "## View the source code for each node"
   ]
  },
  {
   "cell_type": "code",
   "execution_count": 19,
   "metadata": {},
   "outputs": [
    {
     "name": "stdout",
     "output_type": "stream",
     "text": [
      "{'LDA': '@node\\n'\n",
      "        'def LDA(container, data_column, labels_column, n_components):\\n'\n",
      "        '    X = np.vstack(container.df[data_column].values)\\n'\n",
      "        '    y = container.df[labels_column]\\n'\n",
      "        '    \\n'\n",
      "        '    lda = LinearDiscriminantAnalysis(n_components=n_components)\\n'\n",
      "        '    \\n'\n",
      "        '    X_ = lda.fit_transform(X, y)\\n'\n",
      "        '    \\n'\n",
      "        \"    container.df['lda_transform'] = X_.tolist()\\n\"\n",
      "        \"    container.df['lda_transform'] = \"\n",
      "        \"container.df['lda_transform'].apply(np.array)\\n\"\n",
      "        '    \\n'\n",
      "        '    return container\\n',\n",
      " 'absval': '@node\\n'\n",
      "           'def absval(container, data_column):\\n'\n",
      "           \"    container.df['absval'] = \"\n",
      "           'container.df[data_column].apply(lambda x: np.abs(x))\\n'\n",
      "           '    return container\\n',\n",
      " 'log': '@node\\n'\n",
      "        'def log(container, data_column):\\n'\n",
      "        \"    container.df['log'] = container.df[data_column].apply(lambda x: \"\n",
      "        'np.log10(x))\\n'\n",
      "        '    return container\\n',\n",
      " 'normalize': '@node\\n'\n",
      "              'def normalize(container, data_column):\\n'\n",
      "              '    func = lambda a: ((a - np.min(a)) / (np.max(a - '\n",
      "              'np.min(a))))\\n'\n",
      "              \"    container.df['normalize'] = \"\n",
      "              'container.df[data_column].apply(func)\\n'\n",
      "              '    return container\\n',\n",
      " 'rfft': '@node\\n'\n",
      "         'def rfft(container, data_column):\\n'\n",
      "         '    data = np.vstack(container.df[data_column].values)\\n'\n",
      "         '\\n'\n",
      "         \"    container.df['fft'] = fftpack.rfft(data).tolist()\\n\"\n",
      "         \"    container.df['fft'] = container.df['fft'].apply(np.array)\\n\"\n",
      "         '\\n'\n",
      "         '    return container\\n',\n",
      " 'splice': '@node\\n'\n",
      "           'def splice(container, data_column, start, stop):\\n'\n",
      "           \"    container.df['spliced'] = \"\n",
      "           'container.df[data_column].apply(lambda a: a[start:stop])\\n'\n",
      "           '    return container\\n'}\n"
     ]
    }
   ],
   "source": [
    "pprint(cont.functions)"
   ]
  },
  {
   "cell_type": "markdown",
   "metadata": {},
   "source": [
    "# Use the source code to recapitulate pipeline"
   ]
  },
  {
   "cell_type": "markdown",
   "metadata": {},
   "source": [
    "Remove the functions we created"
   ]
  },
  {
   "cell_type": "code",
   "execution_count": 20,
   "metadata": {},
   "outputs": [],
   "source": [
    "del LDA, absval, log, normalize, rfft, splice"
   ]
  },
  {
   "cell_type": "markdown",
   "metadata": {},
   "source": [
    "Pipeline will not work"
   ]
  },
  {
   "cell_type": "code",
   "execution_count": 21,
   "metadata": {},
   "outputs": [
    {
     "ename": "NameError",
     "evalue": "name 'splice' is not defined",
     "output_type": "error",
     "traceback": [
      "\u001b[0;31m---------------------------------------------------------------------------\u001b[0m",
      "\u001b[0;31mNameError\u001b[0m                                 Traceback (most recent call last)",
      "\u001b[0;32m<ipython-input-21-460e55d1a5eb>\u001b[0m in \u001b[0;36m<module>\u001b[0;34m\u001b[0m\n\u001b[1;32m      6\u001b[0m \u001b[0;34m>>\u001b[0m \u001b[0mlog\u001b[0m\u001b[0;34m(\u001b[0m\u001b[0;34m'absval'\u001b[0m\u001b[0;34m)\u001b[0m\u001b[0;31m\\\u001b[0m\u001b[0;34m\u001b[0m\u001b[0;34m\u001b[0m\u001b[0m\n\u001b[1;32m      7\u001b[0m \u001b[0;34m>>\u001b[0m \u001b[0msplice\u001b[0m\u001b[0;34m(\u001b[0m\u001b[0;34m'log'\u001b[0m\u001b[0;34m,\u001b[0m \u001b[0;36m0\u001b[0m\u001b[0;34m,\u001b[0m \u001b[0;36m500\u001b[0m\u001b[0;34m)\u001b[0m\u001b[0;31m\\\u001b[0m\u001b[0;34m\u001b[0m\u001b[0;34m\u001b[0m\u001b[0m\n\u001b[0;32m----> 8\u001b[0;31m \u001b[0;34m>>\u001b[0m \u001b[0mLDA\u001b[0m\u001b[0;34m(\u001b[0m\u001b[0;34m'spliced'\u001b[0m\u001b[0;34m,\u001b[0m \u001b[0mlabels_column\u001b[0m\u001b[0;34m=\u001b[0m\u001b[0;34m'FCLUSTER_LABELS'\u001b[0m\u001b[0;34m,\u001b[0m \u001b[0mn_components\u001b[0m\u001b[0;34m=\u001b[0m\u001b[0;36m2\u001b[0m\u001b[0;34m)\u001b[0m\u001b[0;34m\u001b[0m\u001b[0;34m\u001b[0m\u001b[0m\n\u001b[0m",
      "\u001b[0;31mNameError\u001b[0m: name 'splice' is not defined"
     ]
    }
   ],
   "source": [
    "cont \\\n",
    ">> splice('_RAW_CURVE', 0, 2990)\\\n",
    ">> normalize('spliced')\\\n",
    ">> rfft('normalize')\\\n",
    ">> absval('fft')\\\n",
    ">> log('absval')\\\n",
    ">> splice('log', 0, 500)\\\n",
    ">> LDA('spliced', labels_column='FCLUSTER_LABELS', n_components=2)"
   ]
  },
  {
   "cell_type": "markdown",
   "metadata": {},
   "source": [
    "### Load the functions from the container"
   ]
  },
  {
   "cell_type": "code",
   "execution_count": 22,
   "metadata": {},
   "outputs": [],
   "source": [
    "for f in cont.functions.values():\n",
    "    exec(f)"
   ]
  },
  {
   "cell_type": "markdown",
   "metadata": {},
   "source": [
    "Now the pipeline will work!"
   ]
  },
  {
   "cell_type": "code",
   "execution_count": 23,
   "metadata": {},
   "outputs": [
    {
     "name": "stderr",
     "output_type": "stream",
     "text": [
      "/home/kushal/python-virtual-environments/mesmerize/lib/python3.6/site-packages/sklearn/discriminant_analysis.py:388: UserWarning: Variables are collinear.\n",
      "  warnings.warn(\"Variables are collinear.\")\n"
     ]
    },
    {
     "data": {
      "text/plain": [
       "<__main__.DataFrameContainer at 0x7fa919a60128>"
      ]
     },
     "execution_count": 23,
     "metadata": {},
     "output_type": "execute_result"
    }
   ],
   "source": [
    "cont \\\n",
    ">> splice('_RAW_CURVE', 0, 2990)\\\n",
    ">> normalize('spliced')\\\n",
    ">> rfft('normalize')\\\n",
    ">> absval('fft')\\\n",
    ">> log('absval')\\\n",
    ">> splice('log', 0, 500)\\\n",
    ">> LDA('spliced', labels_column='FCLUSTER_LABELS', n_components=2)"
   ]
  },
  {
   "cell_type": "code",
   "execution_count": 24,
   "metadata": {},
   "outputs": [
    {
     "data": {
      "text/plain": [
       "<matplotlib.collections.PathCollection at 0x7fa8f1c425f8>"
      ]
     },
     "execution_count": 24,
     "metadata": {},
     "output_type": "execute_result"
    },
    {
     "data": {
      "image/png": "[encoded data removed]",
      "text/plain": [
       "<Figure size 432x288 with 1 Axes>"
      ]
     },
     "metadata": {
      "needs_background": "light"
     },
     "output_type": "display_data"
    }
   ],
   "source": [
    "data = np.vstack(cont.df.lda_transform.values)\n",
    "plt.scatter(data[:, 0], data[:, 1], c=cont.df.FCLUSTER_LABELS, cmap='tab10', s=10)"
   ]
  }
 ],
 "metadata": {
  "kernelspec": {
   "display_name": "Python 3",
   "language": "python",
   "name": "python3"
  },
  "language_info": {
   "codemirror_mode": {
    "name": "ipython",
    "version": 3
   },
   "file_extension": ".py",
   "mimetype": "text/x-python",
   "name": "python",
   "nbconvert_exporter": "python",
   "pygments_lexer": "ipython3",
   "version": "3.6.9"
  }
 },
 "nbformat": 4,
 "nbformat_minor": 4
}
