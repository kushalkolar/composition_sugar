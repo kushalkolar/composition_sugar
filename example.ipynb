{
 "cells": [
  {
   "cell_type": "code",
   "execution_count": 1,
   "metadata": {},
   "outputs": [],
   "source": [
    "from core import Container, Node, node\n",
    "import pandas as pd"
   ]
  },
  {
   "cell_type": "markdown",
   "metadata": {},
   "source": [
    "### Data Container\n",
    "Create a class to hold a dataframe an a helper function to load hdf5 files"
   ]
  },
  {
   "cell_type": "code",
   "execution_count": 2,
   "metadata": {},
   "outputs": [],
   "source": [
    "class DataFrameContainer(Container):\n",
    "    def __init__(self, df: pd.DataFrame):\n",
    "        self.df = df\n",
    "    \n",
    "    @classmethod\n",
    "    def from_hdf5(cls, path: str, key: str):\n",
    "        df = pd.read_hdf(path, key=key, mode='r')\n",
    "        return cls(df)"
   ]
  },
  {
   "cell_type": "markdown",
   "metadata": {},
   "source": [
    "## Simple example of a processing node.\n",
    "The first argument **must** be the container\\\n",
    "the process method **must** always return a container instance."
   ]
  },
  {
   "cell_type": "code",
   "execution_count": 3,
   "metadata": {},
   "outputs": [],
   "source": [
    "class Splice(Node):        \n",
    "    def process(self, container, data_column, start, stop):\n",
    "        container.df['spliced'] = container.df[data_column].apply(lambda a: a[start:stop])\n",
    "        return container"
   ]
  },
  {
   "cell_type": "markdown",
   "metadata": {},
   "source": [
    "Create a container from a pandas dataframe stored as an HDF5 file"
   ]
  },
  {
   "cell_type": "code",
   "execution_count": 4,
   "metadata": {},
   "outputs": [],
   "source": [
    "cont = DataFrameContainer.from_hdf5('./data.h5', key='data')"
   ]
  },
  {
   "cell_type": "markdown",
   "metadata": {},
   "source": [
    "Write the pipeline and that's it!"
   ]
  },
  {
   "cell_type": "code",
   "execution_count": 5,
   "metadata": {},
   "outputs": [
    {
     "data": {
      "text/plain": [
       "<__main__.DataFrameContainer at 0x7f20e182d320>"
      ]
     },
     "execution_count": 5,
     "metadata": {},
     "output_type": "execute_result"
    }
   ],
   "source": [
    "cont >> Splice(start=10, stop=1000, data_column='_RAW_CURVE') >> Splice('spliced', 50, 500)"
   ]
  },
  {
   "cell_type": "markdown",
   "metadata": {},
   "source": [
    "It works"
   ]
  },
  {
   "cell_type": "code",
   "execution_count": 6,
   "metadata": {},
   "outputs": [
    {
     "data": {
      "text/plain": [
       "(450,)"
      ]
     },
     "execution_count": 6,
     "metadata": {},
     "output_type": "execute_result"
    }
   ],
   "source": [
    "cont.df.spliced.iloc[0].shape"
   ]
  },
  {
   "cell_type": "markdown",
   "metadata": {},
   "source": [
    "## Even simpler example!\n",
    "You can also just use the @node decorator if it's just a simple function\\\n",
    "The aforementioned class example can be useful if the processing is more complex"
   ]
  },
  {
   "cell_type": "code",
   "execution_count": 7,
   "metadata": {},
   "outputs": [],
   "source": [
    "@node\n",
    "def splice(container, data_column, start, stop):\n",
    "    container.df['spliced'] = container.df[data_column].apply(lambda a: a[start:stop])\n",
    "    return container"
   ]
  },
  {
   "cell_type": "code",
   "execution_count": 8,
   "metadata": {},
   "outputs": [],
   "source": [
    "cont = DataFrameContainer.from_hdf5('./data.h5', key='data')"
   ]
  },
  {
   "cell_type": "code",
   "execution_count": 9,
   "metadata": {},
   "outputs": [
    {
     "data": {
      "text/plain": [
       "<__main__.DataFrameContainer at 0x7f211d83f8d0>"
      ]
     },
     "execution_count": 9,
     "metadata": {},
     "output_type": "execute_result"
    }
   ],
   "source": [
    "cont >> splice(start=10, stop=500, data_column='_RAW_CURVE') >> splice('spliced', 50, 80)"
   ]
  },
  {
   "cell_type": "markdown",
   "metadata": {},
   "source": [
    "Just to show that this also works"
   ]
  },
  {
   "cell_type": "code",
   "execution_count": 10,
   "metadata": {},
   "outputs": [
    {
     "data": {
      "text/plain": [
       "30"
      ]
     },
     "execution_count": 10,
     "metadata": {},
     "output_type": "execute_result"
    }
   ],
   "source": [
    "cont.df.iloc[0].spliced.size"
   ]
  },
  {
   "cell_type": "markdown",
   "metadata": {},
   "source": [
    "# More complex example"
   ]
  },
  {
   "cell_type": "code",
   "execution_count": 11,
   "metadata": {},
   "outputs": [],
   "source": [
    "import numpy as np\n",
    "from scipy import fftpack\n",
    "from sklearn.discriminant_analysis import LinearDiscriminantAnalysis"
   ]
  },
  {
   "cell_type": "markdown",
   "metadata": {},
   "source": [
    "## More complex nodes are basically simple wrapper functions"
   ]
  },
  {
   "cell_type": "code",
   "execution_count": 12,
   "metadata": {},
   "outputs": [],
   "source": [
    "@node\n",
    "def normalize(container, data_column):\n",
    "    func = lambda a: ((a - np.min(a)) / (np.max(a - np.min(a))))\n",
    "    container.df['normalize'] = container.df[data_column].apply(func)\n",
    "    return container\n",
    "\n",
    "\n",
    "@node\n",
    "def log(container, data_column):\n",
    "    container.df['log'] = container.df[data_column].apply(lambda x: np.log10(x))\n",
    "    return container\n",
    "    \n",
    "\n",
    "@node\n",
    "def absval(container, data_column):\n",
    "    container.df['absval'] = container.df[data_column].apply(lambda x: np.abs(x))\n",
    "    return container\n",
    "\n",
    "@node\n",
    "def rfft(container, data_column):\n",
    "    data = np.vstack(container.df[data_column].values)\n",
    "\n",
    "    container.df['fft'] = fftpack.rfft(data).tolist()\n",
    "    container.df['fft'] = container.df['fft'].apply(np.array)\n",
    "\n",
    "    return container\n",
    "\n",
    "\n",
    "@node\n",
    "def LDA(container, data_column, labels_column, n_components):\n",
    "    X = np.vstack(container.df[data_column].values)\n",
    "    y = container.df[labels_column]\n",
    "    \n",
    "    lda = LinearDiscriminantAnalysis(n_components=n_components)\n",
    "    \n",
    "    X_ = lda.fit_transform(X, y)\n",
    "    \n",
    "    container.df['lda_transform'] = X_.tolist()\n",
    "    container.df['lda_transform'] = container.df['lda_transform'].apply(np.array)\n",
    "    \n",
    "    return container\n"
   ]
  },
  {
   "cell_type": "code",
   "execution_count": 13,
   "metadata": {},
   "outputs": [],
   "source": [
    "cont = DataFrameContainer.from_hdf5('./data.h5', key='data')"
   ]
  },
  {
   "cell_type": "markdown",
   "metadata": {},
   "source": [
    "### More complex pipeline"
   ]
  },
  {
   "cell_type": "code",
   "execution_count": 14,
   "metadata": {},
   "outputs": [
    {
     "name": "stderr",
     "output_type": "stream",
     "text": [
      "/home/kushal/python-virtual-environments/mesmerize/lib/python3.6/site-packages/sklearn/discriminant_analysis.py:388: UserWarning: Variables are collinear.\n",
      "  warnings.warn(\"Variables are collinear.\")\n"
     ]
    },
    {
     "data": {
      "text/plain": [
       "<__main__.DataFrameContainer at 0x7f20f5312b38>"
      ]
     },
     "execution_count": 14,
     "metadata": {},
     "output_type": "execute_result"
    }
   ],
   "source": [
    "cont \\\n",
    ">> splice('_RAW_CURVE', 0, 2990)\\\n",
    ">> normalize('spliced')\\\n",
    ">> rfft('normalize')\\\n",
    ">> absval('fft')\\\n",
    ">> log('absval')\\\n",
    ">> splice('log', 0, 1000)\\\n",
    ">> LDA('spliced', 'FCLUSTER_LABELS', 2)"
   ]
  },
  {
   "cell_type": "code",
   "execution_count": 15,
   "metadata": {},
   "outputs": [],
   "source": [
    "from matplotlib import pyplot as plt"
   ]
  },
  {
   "cell_type": "markdown",
   "metadata": {},
   "source": [
    "### View the LDA projection"
   ]
  },
  {
   "cell_type": "code",
   "execution_count": 16,
   "metadata": {},
   "outputs": [
    {
     "data": {
      "text/plain": [
       "<matplotlib.collections.PathCollection at 0x7f20ada74a58>"
      ]
     },
     "execution_count": 16,
     "metadata": {},
     "output_type": "execute_result"
    },
    {
     "data": {
      "image/png": "[encoded data removed]",
      "text/plain": [
       "<Figure size 432x288 with 1 Axes>"
      ]
     },
     "metadata": {
      "needs_background": "light"
     },
     "output_type": "display_data"
    }
   ],
   "source": [
    "data = np.vstack(cont.df.lda_transform.values)\n",
    "plt.scatter(data[:, 0], data[:, 1], c=cont.df.FCLUSTER_LABELS, cmap='tab10', s=10)"
   ]
  },
  {
   "cell_type": "code",
   "execution_count": null,
   "metadata": {},
   "outputs": [],
   "source": []
  }
 ],
 "metadata": {
  "kernelspec": {
   "display_name": "Python 3",
   "language": "python",
   "name": "python3"
  },
  "language_info": {
   "codemirror_mode": {
    "name": "ipython",
    "version": 3
   },
   "file_extension": ".py",
   "mimetype": "text/x-python",
   "name": "python",
   "nbconvert_exporter": "python",
   "pygments_lexer": "ipython3",
   "version": "3.6.9"
  }
 },
 "nbformat": 4,
 "nbformat_minor": 4
}
